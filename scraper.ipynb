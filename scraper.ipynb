{
 "cells": [
  {
   "cell_type": "code",
   "execution_count": 65,
   "metadata": {},
   "outputs": [],
   "source": [
    "import csv \n",
    "from bs4 import BeautifulSoup as soup\n",
    "from urllib.request import urlopen as uReq  \n",
    "Url = 'https://karki23.github.io/Weather-Data/assignment.html'\n",
    "pageHtml = uReq(Url)\n",
    "soupy = soup(pageHtml,\"html.parser\") \n",
    "links = soupy.findAll('a')\n",
    "cities=[]\n",
    "for link in links:\n",
    "    cities.append(link.get('href'))"
   ]
  },
  {
   "cell_type": "code",
   "execution_count": 66,
   "metadata": {},
   "outputs": [
    {
     "name": "stdout",
     "output_type": "stream",
     "text": [
      "https://karki23.github.io/Weather-Data/Albury.html\n",
      "https://karki23.github.io/Weather-Data/BadgerysCreek.html\n",
      "https://karki23.github.io/Weather-Data/Cobar.html\n",
      "https://karki23.github.io/Weather-Data/CoffsHarbour.html\n",
      "https://karki23.github.io/Weather-Data/Moree.html\n",
      "https://karki23.github.io/Weather-Data/Newcastle.html\n",
      "https://karki23.github.io/Weather-Data/NorahHead.html\n",
      "https://karki23.github.io/Weather-Data/NorfolkIsland.html\n",
      "https://karki23.github.io/Weather-Data/Penrith.html\n",
      "https://karki23.github.io/Weather-Data/Richmond.html\n",
      "https://karki23.github.io/Weather-Data/Sydney.html\n",
      "https://karki23.github.io/Weather-Data/SydneyAirport.html\n",
      "https://karki23.github.io/Weather-Data/WaggaWagga.html\n",
      "https://karki23.github.io/Weather-Data/Williamtown.html\n",
      "https://karki23.github.io/Weather-Data/Wollongong.html\n",
      "https://karki23.github.io/Weather-Data/Canberra.html\n",
      "https://karki23.github.io/Weather-Data/Tuggeranong.html\n",
      "https://karki23.github.io/Weather-Data/MountGinini.html\n",
      "https://karki23.github.io/Weather-Data/Ballarat.html\n",
      "https://karki23.github.io/Weather-Data/Bendigo.html\n",
      "https://karki23.github.io/Weather-Data/Sale.html\n",
      "https://karki23.github.io/Weather-Data/MelbourneAirport.html\n",
      "https://karki23.github.io/Weather-Data/Melbourne.html\n",
      "https://karki23.github.io/Weather-Data/Mildura.html\n",
      "https://karki23.github.io/Weather-Data/Nhil.html\n",
      "https://karki23.github.io/Weather-Data/Portland.html\n",
      "https://karki23.github.io/Weather-Data/Watsonia.html\n",
      "https://karki23.github.io/Weather-Data/Dartmoor.html\n",
      "https://karki23.github.io/Weather-Data/Brisbane.html\n",
      "https://karki23.github.io/Weather-Data/Cairns.html\n",
      "https://karki23.github.io/Weather-Data/GoldCoast.html\n",
      "https://karki23.github.io/Weather-Data/Townsville.html\n",
      "https://karki23.github.io/Weather-Data/Adelaide.html\n",
      "https://karki23.github.io/Weather-Data/MountGambier.html\n",
      "https://karki23.github.io/Weather-Data/Nuriootpa.html\n",
      "https://karki23.github.io/Weather-Data/Woomera.html\n",
      "https://karki23.github.io/Weather-Data/Albany.html\n",
      "https://karki23.github.io/Weather-Data/Witchcliffe.html\n",
      "https://karki23.github.io/Weather-Data/PearceRAAF.html\n",
      "https://karki23.github.io/Weather-Data/PerthAirport.html\n",
      "https://karki23.github.io/Weather-Data/Perth.html\n",
      "https://karki23.github.io/Weather-Data/SalmonGums.html\n",
      "https://karki23.github.io/Weather-Data/Walpole.html\n",
      "https://karki23.github.io/Weather-Data/Hobart.html\n",
      "https://karki23.github.io/Weather-Data/Launceston.html\n",
      "https://karki23.github.io/Weather-Data/AliceSprings.html\n",
      "https://karki23.github.io/Weather-Data/Darwin.html\n",
      "https://karki23.github.io/Weather-Data/Katherine.html\n",
      "https://karki23.github.io/Weather-Data/Uluru.html\n"
     ]
    }
   ],
   "source": [
    "citycount=1\n",
    "for city in cities:\n",
    "    url='https://karki23.github.io/Weather-Data/%s'%city\n",
    "    pageHtmll = uReq(url)\n",
    "    soupy = soup(pageHtmll,\"html.parser\") \n",
    "    with open('data%d.csv'%citycount,'w',newline='') as csvfile:\n",
    "        f = csv.writer(csvfile) \n",
    "        rows = soupy.find_all('tr')\n",
    "        count=0\n",
    "        for tr in rows:\n",
    "            data=[]\n",
    "            cols = tr.find_all('td') \n",
    "            for td in cols:\n",
    "                data.append(td.text.strip()) \n",
    "            if count>=1:\n",
    "                f.writerow(data)\n",
    "            count=count+1\n",
    "        citycount=citycount+1"
   ]
  },
  {
   "cell_type": "code",
   "execution_count": null,
   "metadata": {},
   "outputs": [],
   "source": []
  }
 ],
 "metadata": {
  "kernelspec": {
   "display_name": "Python 3",
   "language": "python",
   "name": "python3"
  }
 },
 "nbformat": 4,
 "nbformat_minor": 2
}
